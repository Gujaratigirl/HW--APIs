{
 "cells": [
  {
   "cell_type": "markdown",
   "metadata": {},
   "source": [
    "# WeatherPy\n",
    "----\n",
    "\n",
    "#### Note\n",
    "* Instructions have been included for each segment. You do not have to follow them exactly, but they are included to help you think through the steps."
   ]
  },
  {
   "cell_type": "code",
   "execution_count": 1,
   "metadata": {
    "scrolled": true
   },
   "outputs": [],
   "source": [
    "# Dependencies and Setup\n",
    "import matplotlib.pyplot as plt\n",
    "import pandas as pd\n",
    "import numpy as np\n",
    "import requests\n",
    "import time\n",
    "from scipy.stats import linregress\n",
    "#import os\n",
    "#import csv\n",
    "\n",
    "# Import API key\n",
    "from api_keys import weather_api_key\n",
    "\n",
    "# Incorporated citipy to determine city based on latitude and longitude\n",
    "from citipy import citipy\n",
    "\n",
    "# Output File (CSV)\n",
    "output_data_file = \"output_data/cities.csv\"\n",
    "\n",
    "# Range of latitudes and longitudes\n",
    "lat_range = (-90, 90)\n",
    "lng_range = (-180, 180)\n",
    "\n",
    "response_json = []\n",
    "response_info_json = []"
   ]
  },
  {
   "cell_type": "markdown",
   "metadata": {},
   "source": [
    "## Generate Cities List"
   ]
  },
  {
   "cell_type": "code",
   "execution_count": 2,
   "metadata": {},
   "outputs": [
    {
     "data": {
      "text/plain": [
       "640"
      ]
     },
     "execution_count": 2,
     "metadata": {},
     "output_type": "execute_result"
    }
   ],
   "source": [
    "# List for holding lat_lngs and cities\n",
    "lat_lngs = []\n",
    "cities = []\n",
    "\n",
    "# Create a set of random lat and lng combinations\n",
    "lats = np.random.uniform(lat_range[0], lat_range[1], size=1500)\n",
    "lngs = np.random.uniform(lng_range[0], lng_range[1], size=1500)\n",
    "lat_lngs = zip(lats, lngs)\n",
    "\n",
    "# Identify nearest city for each lat, lng combination\n",
    "for lat_lng in lat_lngs:\n",
    "    city = citipy.nearest_city(lat_lng[0], lat_lng[1]).city_name\n",
    "    \n",
    "    # If the city is unique, then add it to a our cities list\n",
    "    if city not in cities:\n",
    "        cities.append(city)\n",
    "\n",
    "# Print the city count to confirm sufficient count\n",
    "len(cities)"
   ]
  },
  {
   "cell_type": "code",
   "execution_count": 3,
   "metadata": {
    "scrolled": false
   },
   "outputs": [],
   "source": [
    "#print cities list\n",
    "#cities"
   ]
  },
  {
   "cell_type": "code",
   "execution_count": 4,
   "metadata": {},
   "outputs": [
    {
     "data": {
      "text/html": [
       "<div>\n",
       "<style scoped>\n",
       "    .dataframe tbody tr th:only-of-type {\n",
       "        vertical-align: middle;\n",
       "    }\n",
       "\n",
       "    .dataframe tbody tr th {\n",
       "        vertical-align: top;\n",
       "    }\n",
       "\n",
       "    .dataframe thead th {\n",
       "        text-align: right;\n",
       "    }\n",
       "</style>\n",
       "<table border=\"1\" class=\"dataframe\">\n",
       "  <thead>\n",
       "    <tr style=\"text-align: right;\">\n",
       "      <th></th>\n",
       "      <th>City</th>\n",
       "    </tr>\n",
       "  </thead>\n",
       "  <tbody>\n",
       "    <tr>\n",
       "      <th>0</th>\n",
       "      <td>naryan-mar</td>\n",
       "    </tr>\n",
       "    <tr>\n",
       "      <th>1</th>\n",
       "      <td>mahebourg</td>\n",
       "    </tr>\n",
       "    <tr>\n",
       "      <th>2</th>\n",
       "      <td>kuito</td>\n",
       "    </tr>\n",
       "    <tr>\n",
       "      <th>3</th>\n",
       "      <td>chuy</td>\n",
       "    </tr>\n",
       "    <tr>\n",
       "      <th>4</th>\n",
       "      <td>ushuaia</td>\n",
       "    </tr>\n",
       "    <tr>\n",
       "      <th>...</th>\n",
       "      <td>...</td>\n",
       "    </tr>\n",
       "    <tr>\n",
       "      <th>635</th>\n",
       "      <td>nadym</td>\n",
       "    </tr>\n",
       "    <tr>\n",
       "      <th>636</th>\n",
       "      <td>norman wells</td>\n",
       "    </tr>\n",
       "    <tr>\n",
       "      <th>637</th>\n",
       "      <td>wajima</td>\n",
       "    </tr>\n",
       "    <tr>\n",
       "      <th>638</th>\n",
       "      <td>opuwo</td>\n",
       "    </tr>\n",
       "    <tr>\n",
       "      <th>639</th>\n",
       "      <td>qui nhon</td>\n",
       "    </tr>\n",
       "  </tbody>\n",
       "</table>\n",
       "<p>640 rows × 1 columns</p>\n",
       "</div>"
      ],
      "text/plain": [
       "             City\n",
       "0      naryan-mar\n",
       "1       mahebourg\n",
       "2           kuito\n",
       "3            chuy\n",
       "4         ushuaia\n",
       "..            ...\n",
       "635         nadym\n",
       "636  norman wells\n",
       "637        wajima\n",
       "638         opuwo\n",
       "639      qui nhon\n",
       "\n",
       "[640 rows x 1 columns]"
      ]
     },
     "execution_count": 4,
     "metadata": {},
     "output_type": "execute_result"
    }
   ],
   "source": [
    "#make the array/list into a simple df\n",
    "cities_df = pd.DataFrame(cities,columns=['City'])\n",
    "cities_df"
   ]
  },
  {
   "cell_type": "markdown",
   "metadata": {},
   "source": [
    "### Perform API Calls\n",
    "* Perform a weather check on each city using a series of successive API calls.\n",
    "* Include a print log of each city as it'sbeing processed (with the city number and city name).\n"
   ]
  },
  {
   "cell_type": "code",
   "execution_count": 5,
   "metadata": {},
   "outputs": [],
   "source": [
    "#test if my URL is working on a single city\n",
    "#city = 'Las Vegas'\n",
    "\n",
    "#base_url = f\"http://api.openweathermap.org/data/2.5/weather?q={city}&appid={weather_api_key}\"\n",
    "base_url = f\"http://api.openweathermap.org/data/2.5/weather?q={cities}&appid={weather_api_key}\"\n",
    "#base_url"
   ]
  },
  {
   "cell_type": "code",
   "execution_count": 6,
   "metadata": {},
   "outputs": [
    {
     "data": {
      "text/html": [
       "<div>\n",
       "<style scoped>\n",
       "    .dataframe tbody tr th:only-of-type {\n",
       "        vertical-align: middle;\n",
       "    }\n",
       "\n",
       "    .dataframe tbody tr th {\n",
       "        vertical-align: top;\n",
       "    }\n",
       "\n",
       "    .dataframe thead th {\n",
       "        text-align: right;\n",
       "    }\n",
       "</style>\n",
       "<table border=\"1\" class=\"dataframe\">\n",
       "  <thead>\n",
       "    <tr style=\"text-align: right;\">\n",
       "      <th></th>\n",
       "      <th>City</th>\n",
       "      <th>Lat</th>\n",
       "      <th>Lng</th>\n",
       "      <th>Max Temp</th>\n",
       "      <th>Humidity</th>\n",
       "      <th>Cloudiness</th>\n",
       "      <th>Wind Speed</th>\n",
       "      <th>Country</th>\n",
       "      <th>Date</th>\n",
       "    </tr>\n",
       "  </thead>\n",
       "  <tbody>\n",
       "    <tr>\n",
       "      <th>0</th>\n",
       "      <td>naryan-mar</td>\n",
       "      <td></td>\n",
       "      <td></td>\n",
       "      <td></td>\n",
       "      <td></td>\n",
       "      <td></td>\n",
       "      <td></td>\n",
       "      <td></td>\n",
       "      <td></td>\n",
       "    </tr>\n",
       "    <tr>\n",
       "      <th>1</th>\n",
       "      <td>mahebourg</td>\n",
       "      <td></td>\n",
       "      <td></td>\n",
       "      <td></td>\n",
       "      <td></td>\n",
       "      <td></td>\n",
       "      <td></td>\n",
       "      <td></td>\n",
       "      <td></td>\n",
       "    </tr>\n",
       "    <tr>\n",
       "      <th>2</th>\n",
       "      <td>kuito</td>\n",
       "      <td></td>\n",
       "      <td></td>\n",
       "      <td></td>\n",
       "      <td></td>\n",
       "      <td></td>\n",
       "      <td></td>\n",
       "      <td></td>\n",
       "      <td></td>\n",
       "    </tr>\n",
       "    <tr>\n",
       "      <th>3</th>\n",
       "      <td>chuy</td>\n",
       "      <td></td>\n",
       "      <td></td>\n",
       "      <td></td>\n",
       "      <td></td>\n",
       "      <td></td>\n",
       "      <td></td>\n",
       "      <td></td>\n",
       "      <td></td>\n",
       "    </tr>\n",
       "    <tr>\n",
       "      <th>4</th>\n",
       "      <td>ushuaia</td>\n",
       "      <td></td>\n",
       "      <td></td>\n",
       "      <td></td>\n",
       "      <td></td>\n",
       "      <td></td>\n",
       "      <td></td>\n",
       "      <td></td>\n",
       "      <td></td>\n",
       "    </tr>\n",
       "  </tbody>\n",
       "</table>\n",
       "</div>"
      ],
      "text/plain": [
       "         City Lat Lng Max Temp Humidity Cloudiness Wind Speed Country Date\n",
       "0  naryan-mar                                                             \n",
       "1   mahebourg                                                             \n",
       "2       kuito                                                             \n",
       "3        chuy                                                             \n",
       "4     ushuaia                                                             "
      ]
     },
     "execution_count": 6,
     "metadata": {},
     "output_type": "execute_result"
    }
   ],
   "source": [
    "# Add columns for lat, lng, airport name, airport address, airport rating\n",
    "# Note that we used \"\" to specify initial entry.\n",
    "cities_df[\"Lat\"] = \"\"\n",
    "cities_df[\"Lng\"] = \"\"\n",
    "cities_df[\"Max Temp\"] = \"\"\n",
    "cities_df[\"Humidity\"] = \"\"\n",
    "cities_df[\"Cloudiness\"] = \"\"\n",
    "cities_df[\"Wind Speed\"] = \"\"\n",
    "cities_df[\"Country\"] = \"\"\n",
    "cities_df[\"Date\"] = \"\"\n",
    "cities_df.head()"
   ]
  },
  {
   "cell_type": "code",
   "execution_count": 7,
   "metadata": {
    "scrolled": false
   },
   "outputs": [],
   "source": [
    "#Used to test location of data and duild dataframe\n",
    "#response_info_json[2]['dt']#['temp_max']#['coord']#['lon']"
   ]
  },
  {
   "cell_type": "code",
   "execution_count": 8,
   "metadata": {
    "scrolled": true
   },
   "outputs": [
    {
     "name": "stdout",
     "output_type": "stream",
     "text": [
      "Making request number: 0 for ID: naryan-mar\n",
      "Making request number: 1 for ID: mahebourg\n",
      "Making request number: 2 for ID: kuito\n",
      "Making request number: 3 for ID: chuy\n",
      "Making request number: 4 for ID: ushuaia\n",
      "Making request number: 5 for ID: vostok\n",
      "Making request number: 6 for ID: grindavik\n",
      "Making request number: 7 for ID: busselton\n",
      "Making request number: 8 for ID: cape town\n",
      "Making request number: 9 for ID: port elizabeth\n"
     ]
    },
    {
     "data": {
      "text/html": [
       "<div>\n",
       "<style scoped>\n",
       "    .dataframe tbody tr th:only-of-type {\n",
       "        vertical-align: middle;\n",
       "    }\n",
       "\n",
       "    .dataframe tbody tr th {\n",
       "        vertical-align: top;\n",
       "    }\n",
       "\n",
       "    .dataframe thead th {\n",
       "        text-align: right;\n",
       "    }\n",
       "</style>\n",
       "<table border=\"1\" class=\"dataframe\">\n",
       "  <thead>\n",
       "    <tr style=\"text-align: right;\">\n",
       "      <th></th>\n",
       "      <th>City</th>\n",
       "      <th>Lat</th>\n",
       "      <th>Lng</th>\n",
       "      <th>Max Temp</th>\n",
       "      <th>Humidity</th>\n",
       "      <th>Cloudiness</th>\n",
       "      <th>Wind Speed</th>\n",
       "      <th>Country</th>\n",
       "      <th>Date</th>\n",
       "    </tr>\n",
       "  </thead>\n",
       "  <tbody>\n",
       "    <tr>\n",
       "      <th>0</th>\n",
       "      <td>naryan-mar</td>\n",
       "      <td>67.6713</td>\n",
       "      <td>53.087</td>\n",
       "      <td>274.26</td>\n",
       "      <td>96</td>\n",
       "      <td>50</td>\n",
       "      <td>4.14</td>\n",
       "      <td>RU</td>\n",
       "      <td>1618926600</td>\n",
       "    </tr>\n",
       "    <tr>\n",
       "      <th>1</th>\n",
       "      <td>mahebourg</td>\n",
       "      <td>-20.4081</td>\n",
       "      <td>57.7</td>\n",
       "      <td>301.15</td>\n",
       "      <td>78</td>\n",
       "      <td>75</td>\n",
       "      <td>1.54</td>\n",
       "      <td>MU</td>\n",
       "      <td>1618926600</td>\n",
       "    </tr>\n",
       "    <tr>\n",
       "      <th>2</th>\n",
       "      <td>kuito</td>\n",
       "      <td>-12.3833</td>\n",
       "      <td>16.9333</td>\n",
       "      <td>296.92</td>\n",
       "      <td>44</td>\n",
       "      <td>73</td>\n",
       "      <td>2.61</td>\n",
       "      <td>AO</td>\n",
       "      <td>1618926601</td>\n",
       "    </tr>\n",
       "    <tr>\n",
       "      <th>3</th>\n",
       "      <td>chuy</td>\n",
       "      <td>-33.6971</td>\n",
       "      <td>-53.4616</td>\n",
       "      <td>294.97</td>\n",
       "      <td>64</td>\n",
       "      <td>1</td>\n",
       "      <td>5.96</td>\n",
       "      <td>UY</td>\n",
       "      <td>1618926601</td>\n",
       "    </tr>\n",
       "    <tr>\n",
       "      <th>4</th>\n",
       "      <td>ushuaia</td>\n",
       "      <td>-54.8</td>\n",
       "      <td>-68.3</td>\n",
       "      <td>280.15</td>\n",
       "      <td>76</td>\n",
       "      <td>75</td>\n",
       "      <td>7.72</td>\n",
       "      <td>AR</td>\n",
       "      <td>1618926601</td>\n",
       "    </tr>\n",
       "    <tr>\n",
       "      <th>5</th>\n",
       "      <td>vostok</td>\n",
       "      <td>46.4856</td>\n",
       "      <td>135.883</td>\n",
       "      <td>270.7</td>\n",
       "      <td>47</td>\n",
       "      <td>0</td>\n",
       "      <td>3.41</td>\n",
       "      <td>RU</td>\n",
       "      <td>1618926602</td>\n",
       "    </tr>\n",
       "    <tr>\n",
       "      <th>6</th>\n",
       "      <td>grindavik</td>\n",
       "      <td>63.8424</td>\n",
       "      <td>-22.4338</td>\n",
       "      <td>277.15</td>\n",
       "      <td>65</td>\n",
       "      <td>75</td>\n",
       "      <td>5.14</td>\n",
       "      <td>IS</td>\n",
       "      <td>1618926602</td>\n",
       "    </tr>\n",
       "    <tr>\n",
       "      <th>7</th>\n",
       "      <td>busselton</td>\n",
       "      <td>-33.65</td>\n",
       "      <td>115.333</td>\n",
       "      <td>285.37</td>\n",
       "      <td>89</td>\n",
       "      <td>20</td>\n",
       "      <td>5.18</td>\n",
       "      <td>AU</td>\n",
       "      <td>1618926603</td>\n",
       "    </tr>\n",
       "    <tr>\n",
       "      <th>8</th>\n",
       "      <td>cape town</td>\n",
       "      <td>-33.9258</td>\n",
       "      <td>18.4232</td>\n",
       "      <td>299.26</td>\n",
       "      <td>46</td>\n",
       "      <td>0</td>\n",
       "      <td>4.63</td>\n",
       "      <td>ZA</td>\n",
       "      <td>1618926401</td>\n",
       "    </tr>\n",
       "    <tr>\n",
       "      <th>9</th>\n",
       "      <td>port elizabeth</td>\n",
       "      <td>-33.918</td>\n",
       "      <td>25.5701</td>\n",
       "      <td>292.15</td>\n",
       "      <td>82</td>\n",
       "      <td>0</td>\n",
       "      <td>7.72</td>\n",
       "      <td>ZA</td>\n",
       "      <td>1618926603</td>\n",
       "    </tr>\n",
       "  </tbody>\n",
       "</table>\n",
       "</div>"
      ],
      "text/plain": [
       "             City      Lat      Lng Max Temp Humidity Cloudiness Wind Speed  \\\n",
       "0      naryan-mar  67.6713   53.087   274.26       96         50       4.14   \n",
       "1       mahebourg -20.4081     57.7   301.15       78         75       1.54   \n",
       "2           kuito -12.3833  16.9333   296.92       44         73       2.61   \n",
       "3            chuy -33.6971 -53.4616   294.97       64          1       5.96   \n",
       "4         ushuaia    -54.8    -68.3   280.15       76         75       7.72   \n",
       "5          vostok  46.4856  135.883    270.7       47          0       3.41   \n",
       "6       grindavik  63.8424 -22.4338   277.15       65         75       5.14   \n",
       "7       busselton   -33.65  115.333   285.37       89         20       5.18   \n",
       "8       cape town -33.9258  18.4232   299.26       46          0       4.63   \n",
       "9  port elizabeth  -33.918  25.5701   292.15       82          0       7.72   \n",
       "\n",
       "  Country        Date  \n",
       "0      RU  1618926600  \n",
       "1      MU  1618926600  \n",
       "2      AO  1618926601  \n",
       "3      UY  1618926601  \n",
       "4      AR  1618926601  \n",
       "5      RU  1618926602  \n",
       "6      IS  1618926602  \n",
       "7      AU  1618926603  \n",
       "8      ZA  1618926401  \n",
       "9      ZA  1618926603  "
      ]
     },
     "execution_count": 8,
     "metadata": {},
     "output_type": "execute_result"
    }
   ],
   "source": [
    "#request data from OpenWeather API website\n",
    "\n",
    "#running for only 10 cities for pilot testing. --below code for full testing\n",
    "#for x in range(len(cities)):\n",
    "for x in range(10): #use during testing for speed\n",
    "    print(f\"Making request number: {x} for ID: {cities[x]}\")\n",
    "\n",
    "    # Get one of the posts\n",
    "    response_info = requests.get(f\"http://api.openweathermap.org/data/2.5/weather?q={cities[x]}&appid={weather_api_key}\")\n",
    "\n",
    "    # Save post's JSON\n",
    "    response_info_json.append(response_info.json())\n",
    "    try:\n",
    "        cities_df.loc[x, \"Lat\"] = response_info_json[x]['coord']['lat']\n",
    "        cities_df.loc[x, \"Lng\"] = response_info_json[x]['coord']['lon']\n",
    "        cities_df.loc[x, \"Max Temp\"] = response_info_json[x]['main']['temp_max']\n",
    "        cities_df.loc[x, \"Humidity\"] = response_info_json[x]['main']['humidity']\n",
    "        cities_df.loc[x, \"Cloudiness\"] = response_info_json[x]['clouds']['all']\n",
    "        cities_df.loc[x, \"Wind Speed\"] = response_info_json[x]['wind']['speed']\n",
    "        cities_df.loc[x, \"Country\"] = response_info_json[x]['sys']['country']\n",
    "        cities_df.loc[x, \"Date\"] = response_info_json[x]['dt']\n",
    "    except KeyError:\n",
    "        print(\"move on to next\")\n",
    "        \n",
    "cities_df.head(10)    "
   ]
  },
  {
   "cell_type": "code",
   "execution_count": 9,
   "metadata": {},
   "outputs": [
    {
     "data": {
      "text/plain": [
       "City          object\n",
       "Lat           object\n",
       "Lng           object\n",
       "Max Temp      object\n",
       "Humidity      object\n",
       "Cloudiness    object\n",
       "Wind Speed    object\n",
       "Country       object\n",
       "Date          object\n",
       "dtype: object"
      ]
     },
     "execution_count": 9,
     "metadata": {},
     "output_type": "execute_result"
    }
   ],
   "source": [
    "#type test- need numerical/float\n",
    "cities_df.dtypes\n"
   ]
  },
  {
   "cell_type": "code",
   "execution_count": 10,
   "metadata": {},
   "outputs": [
    {
     "data": {
      "text/plain": [
       "City           object\n",
       "Lat           float64\n",
       "Lng           float64\n",
       "Max Temp      float64\n",
       "Humidity      float64\n",
       "Cloudiness    float64\n",
       "Wind Speed    float64\n",
       "Country        object\n",
       "Date          float64\n",
       "dtype: object"
      ]
     },
     "execution_count": 10,
     "metadata": {},
     "output_type": "execute_result"
    }
   ],
   "source": [
    "#change necessary type to numeric/float\n",
    "cities_df[\"Lat\"] = pd.to_numeric(cities_df[\"Lat\"],errors='coerce')\n",
    "cities_df[\"Lng\"] = pd.to_numeric(cities_df[\"Lng\"],errors='coerce')\n",
    "cities_df[\"Max Temp\"] = pd.to_numeric(cities_df[\"Max Temp\"],errors='coerce')\n",
    "cities_df[\"Humidity\"] = pd.to_numeric(cities_df[\"Humidity\"],errors='coerce')\n",
    "cities_df[\"Cloudiness\"] = pd.to_numeric(cities_df[\"Cloudiness\"],errors='coerce')\n",
    "cities_df[\"Wind Speed\"] = pd.to_numeric(cities_df[\"Wind Speed\"],errors='coerce')\n",
    "cities_df[\"Date\"] = pd.to_numeric(cities_df[\"Date\"],errors='coerce')\n",
    "cities_df.dtypes"
   ]
  },
  {
   "cell_type": "code",
   "execution_count": 11,
   "metadata": {},
   "outputs": [],
   "source": [
    "#cities_agg_df=cities_df.agg(['count','mean', 'std', 'min', 'max'])\n",
    "#cities_agg_df = cities_df.groupby('Sort').agg({\"Lat\":['count',np.mean, np.std, 'min', 'max']})\n",
    "#tumor_vol_df = last_time_interval_mice_df[['Tumor Volume (mm3)','Drug Regimen']].copy()\n",
    "#cities_agg_df\n",
    "#cleaned_agg_df = cities_agg_df[['Lat','Lng','Max Temp', 'Humidity', 'Cloudiness', 'Wind Speed', 'Date']].copy()\n",
    "#cleaned_agg_df"
   ]
  },
  {
   "cell_type": "code",
   "execution_count": 12,
   "metadata": {},
   "outputs": [
    {
     "data": {
      "text/html": [
       "<div>\n",
       "<style scoped>\n",
       "    .dataframe tbody tr th:only-of-type {\n",
       "        vertical-align: middle;\n",
       "    }\n",
       "\n",
       "    .dataframe tbody tr th {\n",
       "        vertical-align: top;\n",
       "    }\n",
       "\n",
       "    .dataframe thead th {\n",
       "        text-align: right;\n",
       "    }\n",
       "</style>\n",
       "<table border=\"1\" class=\"dataframe\">\n",
       "  <thead>\n",
       "    <tr style=\"text-align: right;\">\n",
       "      <th></th>\n",
       "      <th>Lat</th>\n",
       "      <th>Lng</th>\n",
       "      <th>Max Temp</th>\n",
       "      <th>Humidity</th>\n",
       "      <th>Cloudiness</th>\n",
       "      <th>Wind Speed</th>\n",
       "      <th>Date</th>\n",
       "    </tr>\n",
       "  </thead>\n",
       "  <tbody>\n",
       "    <tr>\n",
       "      <th>count</th>\n",
       "      <td>10.000000</td>\n",
       "      <td>10.000000</td>\n",
       "      <td>10.000000</td>\n",
       "      <td>10.000000</td>\n",
       "      <td>10.000000</td>\n",
       "      <td>10.000000</td>\n",
       "      <td>1.000000e+01</td>\n",
       "    </tr>\n",
       "    <tr>\n",
       "      <th>mean</th>\n",
       "      <td>-4.478300</td>\n",
       "      <td>27.873480</td>\n",
       "      <td>287.208000</td>\n",
       "      <td>68.700000</td>\n",
       "      <td>36.900000</td>\n",
       "      <td>4.805000</td>\n",
       "      <td>1.618927e+09</td>\n",
       "    </tr>\n",
       "    <tr>\n",
       "      <th>std</th>\n",
       "      <td>45.652918</td>\n",
       "      <td>66.207201</td>\n",
       "      <td>11.121285</td>\n",
       "      <td>18.577465</td>\n",
       "      <td>35.728762</td>\n",
       "      <td>2.013246</td>\n",
       "      <td>6.339506e+01</td>\n",
       "    </tr>\n",
       "    <tr>\n",
       "      <th>min</th>\n",
       "      <td>-54.800000</td>\n",
       "      <td>-68.300000</td>\n",
       "      <td>270.700000</td>\n",
       "      <td>44.000000</td>\n",
       "      <td>0.000000</td>\n",
       "      <td>1.540000</td>\n",
       "      <td>1.618926e+09</td>\n",
       "    </tr>\n",
       "    <tr>\n",
       "      <th>25%</th>\n",
       "      <td>-33.862775</td>\n",
       "      <td>-12.592025</td>\n",
       "      <td>277.900000</td>\n",
       "      <td>51.250000</td>\n",
       "      <td>0.250000</td>\n",
       "      <td>3.592500</td>\n",
       "      <td>1.618927e+09</td>\n",
       "    </tr>\n",
       "    <tr>\n",
       "      <th>50%</th>\n",
       "      <td>-27.029050</td>\n",
       "      <td>21.996650</td>\n",
       "      <td>288.760000</td>\n",
       "      <td>70.500000</td>\n",
       "      <td>35.000000</td>\n",
       "      <td>4.885000</td>\n",
       "      <td>1.618927e+09</td>\n",
       "    </tr>\n",
       "    <tr>\n",
       "      <th>75%</th>\n",
       "      <td>31.768375</td>\n",
       "      <td>56.546750</td>\n",
       "      <td>296.432500</td>\n",
       "      <td>81.000000</td>\n",
       "      <td>74.500000</td>\n",
       "      <td>5.765000</td>\n",
       "      <td>1.618927e+09</td>\n",
       "    </tr>\n",
       "    <tr>\n",
       "      <th>max</th>\n",
       "      <td>67.671300</td>\n",
       "      <td>135.883300</td>\n",
       "      <td>301.150000</td>\n",
       "      <td>96.000000</td>\n",
       "      <td>75.000000</td>\n",
       "      <td>7.720000</td>\n",
       "      <td>1.618927e+09</td>\n",
       "    </tr>\n",
       "  </tbody>\n",
       "</table>\n",
       "</div>"
      ],
      "text/plain": [
       "             Lat         Lng    Max Temp   Humidity  Cloudiness  Wind Speed  \\\n",
       "count  10.000000   10.000000   10.000000  10.000000   10.000000   10.000000   \n",
       "mean   -4.478300   27.873480  287.208000  68.700000   36.900000    4.805000   \n",
       "std    45.652918   66.207201   11.121285  18.577465   35.728762    2.013246   \n",
       "min   -54.800000  -68.300000  270.700000  44.000000    0.000000    1.540000   \n",
       "25%   -33.862775  -12.592025  277.900000  51.250000    0.250000    3.592500   \n",
       "50%   -27.029050   21.996650  288.760000  70.500000   35.000000    4.885000   \n",
       "75%    31.768375   56.546750  296.432500  81.000000   74.500000    5.765000   \n",
       "max    67.671300  135.883300  301.150000  96.000000   75.000000    7.720000   \n",
       "\n",
       "               Date  \n",
       "count  1.000000e+01  \n",
       "mean   1.618927e+09  \n",
       "std    6.339506e+01  \n",
       "min    1.618926e+09  \n",
       "25%    1.618927e+09  \n",
       "50%    1.618927e+09  \n",
       "75%    1.618927e+09  \n",
       "max    1.618927e+09  "
      ]
     },
     "execution_count": 12,
     "metadata": {},
     "output_type": "execute_result"
    }
   ],
   "source": [
    "#columns.describe(percentiles=[0.5, 0.95])\n",
    "#cleaned_for_agg_df = cities_df[['Lat','Lng','Max Temp', 'Humidity', 'Cloudiness', 'Wind Speed']].copy()\n",
    "#cleaned_for_agg_df.columns.agg('describe')[['25%', '50%', '75%', 'count']]\n",
    "#cleaned_agg_df.columns.describe(percentiles=[0.5, 0.95])\n",
    "cities_df.describe()"
   ]
  },
  {
   "cell_type": "code",
   "execution_count": 14,
   "metadata": {},
   "outputs": [
    {
     "data": {
      "text/html": [
       "<div>\n",
       "<style scoped>\n",
       "    .dataframe tbody tr th:only-of-type {\n",
       "        vertical-align: middle;\n",
       "    }\n",
       "\n",
       "    .dataframe tbody tr th {\n",
       "        vertical-align: top;\n",
       "    }\n",
       "\n",
       "    .dataframe thead th {\n",
       "        text-align: right;\n",
       "    }\n",
       "</style>\n",
       "<table border=\"1\" class=\"dataframe\">\n",
       "  <thead>\n",
       "    <tr style=\"text-align: right;\">\n",
       "      <th></th>\n",
       "      <th>City</th>\n",
       "      <th>Lat</th>\n",
       "      <th>Lng</th>\n",
       "      <th>Max Temp</th>\n",
       "      <th>Humidity</th>\n",
       "      <th>Cloudiness</th>\n",
       "      <th>Wind Speed</th>\n",
       "      <th>Country</th>\n",
       "      <th>Date</th>\n",
       "    </tr>\n",
       "  </thead>\n",
       "  <tbody>\n",
       "  </tbody>\n",
       "</table>\n",
       "</div>"
      ],
      "text/plain": [
       "Empty DataFrame\n",
       "Columns: [City, Lat, Lng, Max Temp, Humidity, Cloudiness, Wind Speed, Country, Date]\n",
       "Index: []"
      ]
     },
     "execution_count": 14,
     "metadata": {},
     "output_type": "execute_result"
    }
   ],
   "source": [
    "#DF with humidity >100\n",
    "humidity_df = pd.DataFrame(cities_df[cities_df['Humidity'] > 100])\n",
    "humidity_df"
   ]
  },
  {
   "cell_type": "code",
   "execution_count": 19,
   "metadata": {},
   "outputs": [
    {
     "data": {
      "text/html": [
       "<div>\n",
       "<style scoped>\n",
       "    .dataframe tbody tr th:only-of-type {\n",
       "        vertical-align: middle;\n",
       "    }\n",
       "\n",
       "    .dataframe tbody tr th {\n",
       "        vertical-align: top;\n",
       "    }\n",
       "\n",
       "    .dataframe thead th {\n",
       "        text-align: right;\n",
       "    }\n",
       "</style>\n",
       "<table border=\"1\" class=\"dataframe\">\n",
       "  <thead>\n",
       "    <tr style=\"text-align: right;\">\n",
       "      <th></th>\n",
       "      <th>City</th>\n",
       "      <th>Lat</th>\n",
       "      <th>Lng</th>\n",
       "      <th>Max Temp</th>\n",
       "      <th>Humidity</th>\n",
       "      <th>Cloudiness</th>\n",
       "      <th>Wind Speed</th>\n",
       "      <th>Country</th>\n",
       "      <th>Date</th>\n",
       "    </tr>\n",
       "  </thead>\n",
       "  <tbody>\n",
       "    <tr>\n",
       "      <th>0</th>\n",
       "      <td>naryan-mar</td>\n",
       "      <td>67.6713</td>\n",
       "      <td>53.0870</td>\n",
       "      <td>274.26</td>\n",
       "      <td>96.0</td>\n",
       "      <td>50.0</td>\n",
       "      <td>4.14</td>\n",
       "      <td>RU</td>\n",
       "      <td>1.618927e+09</td>\n",
       "    </tr>\n",
       "    <tr>\n",
       "      <th>1</th>\n",
       "      <td>mahebourg</td>\n",
       "      <td>-20.4081</td>\n",
       "      <td>57.7000</td>\n",
       "      <td>301.15</td>\n",
       "      <td>78.0</td>\n",
       "      <td>75.0</td>\n",
       "      <td>1.54</td>\n",
       "      <td>MU</td>\n",
       "      <td>1.618927e+09</td>\n",
       "    </tr>\n",
       "    <tr>\n",
       "      <th>2</th>\n",
       "      <td>kuito</td>\n",
       "      <td>-12.3833</td>\n",
       "      <td>16.9333</td>\n",
       "      <td>296.92</td>\n",
       "      <td>44.0</td>\n",
       "      <td>73.0</td>\n",
       "      <td>2.61</td>\n",
       "      <td>AO</td>\n",
       "      <td>1.618927e+09</td>\n",
       "    </tr>\n",
       "    <tr>\n",
       "      <th>3</th>\n",
       "      <td>chuy</td>\n",
       "      <td>-33.6971</td>\n",
       "      <td>-53.4616</td>\n",
       "      <td>294.97</td>\n",
       "      <td>64.0</td>\n",
       "      <td>1.0</td>\n",
       "      <td>5.96</td>\n",
       "      <td>UY</td>\n",
       "      <td>1.618927e+09</td>\n",
       "    </tr>\n",
       "    <tr>\n",
       "      <th>4</th>\n",
       "      <td>ushuaia</td>\n",
       "      <td>-54.8000</td>\n",
       "      <td>-68.3000</td>\n",
       "      <td>280.15</td>\n",
       "      <td>76.0</td>\n",
       "      <td>75.0</td>\n",
       "      <td>7.72</td>\n",
       "      <td>AR</td>\n",
       "      <td>1.618927e+09</td>\n",
       "    </tr>\n",
       "    <tr>\n",
       "      <th>5</th>\n",
       "      <td>vostok</td>\n",
       "      <td>46.4856</td>\n",
       "      <td>135.8833</td>\n",
       "      <td>270.70</td>\n",
       "      <td>47.0</td>\n",
       "      <td>0.0</td>\n",
       "      <td>3.41</td>\n",
       "      <td>RU</td>\n",
       "      <td>1.618927e+09</td>\n",
       "    </tr>\n",
       "    <tr>\n",
       "      <th>6</th>\n",
       "      <td>grindavik</td>\n",
       "      <td>63.8424</td>\n",
       "      <td>-22.4338</td>\n",
       "      <td>277.15</td>\n",
       "      <td>65.0</td>\n",
       "      <td>75.0</td>\n",
       "      <td>5.14</td>\n",
       "      <td>IS</td>\n",
       "      <td>1.618927e+09</td>\n",
       "    </tr>\n",
       "    <tr>\n",
       "      <th>7</th>\n",
       "      <td>busselton</td>\n",
       "      <td>-33.6500</td>\n",
       "      <td>115.3333</td>\n",
       "      <td>285.37</td>\n",
       "      <td>89.0</td>\n",
       "      <td>20.0</td>\n",
       "      <td>5.18</td>\n",
       "      <td>AU</td>\n",
       "      <td>1.618927e+09</td>\n",
       "    </tr>\n",
       "    <tr>\n",
       "      <th>8</th>\n",
       "      <td>cape town</td>\n",
       "      <td>-33.9258</td>\n",
       "      <td>18.4232</td>\n",
       "      <td>299.26</td>\n",
       "      <td>46.0</td>\n",
       "      <td>0.0</td>\n",
       "      <td>4.63</td>\n",
       "      <td>ZA</td>\n",
       "      <td>1.618926e+09</td>\n",
       "    </tr>\n",
       "    <tr>\n",
       "      <th>9</th>\n",
       "      <td>port elizabeth</td>\n",
       "      <td>-33.9180</td>\n",
       "      <td>25.5701</td>\n",
       "      <td>292.15</td>\n",
       "      <td>82.0</td>\n",
       "      <td>0.0</td>\n",
       "      <td>7.72</td>\n",
       "      <td>ZA</td>\n",
       "      <td>1.618927e+09</td>\n",
       "    </tr>\n",
       "  </tbody>\n",
       "</table>\n",
       "</div>"
      ],
      "text/plain": [
       "             City      Lat       Lng  Max Temp  Humidity  Cloudiness  \\\n",
       "0      naryan-mar  67.6713   53.0870    274.26      96.0        50.0   \n",
       "1       mahebourg -20.4081   57.7000    301.15      78.0        75.0   \n",
       "2           kuito -12.3833   16.9333    296.92      44.0        73.0   \n",
       "3            chuy -33.6971  -53.4616    294.97      64.0         1.0   \n",
       "4         ushuaia -54.8000  -68.3000    280.15      76.0        75.0   \n",
       "5          vostok  46.4856  135.8833    270.70      47.0         0.0   \n",
       "6       grindavik  63.8424  -22.4338    277.15      65.0        75.0   \n",
       "7       busselton -33.6500  115.3333    285.37      89.0        20.0   \n",
       "8       cape town -33.9258   18.4232    299.26      46.0         0.0   \n",
       "9  port elizabeth -33.9180   25.5701    292.15      82.0         0.0   \n",
       "\n",
       "   Wind Speed Country          Date  \n",
       "0        4.14      RU  1.618927e+09  \n",
       "1        1.54      MU  1.618927e+09  \n",
       "2        2.61      AO  1.618927e+09  \n",
       "3        5.96      UY  1.618927e+09  \n",
       "4        7.72      AR  1.618927e+09  \n",
       "5        3.41      RU  1.618927e+09  \n",
       "6        5.14      IS  1.618927e+09  \n",
       "7        5.18      AU  1.618927e+09  \n",
       "8        4.63      ZA  1.618926e+09  \n",
       "9        7.72      ZA  1.618927e+09  "
      ]
     },
     "execution_count": 19,
     "metadata": {},
     "output_type": "execute_result"
    }
   ],
   "source": [
    "#DF with humidity < 101\n",
    "clean_city_df = pd.DataFrame(cities_df[cities_df['Humidity'] < 101])\n",
    "clean_city_df.dropna(inplace=False)\n",
    "clean_city_df\n"
   ]
  },
  {
   "cell_type": "markdown",
   "metadata": {},
   "source": [
    "data_needed = ['Lat', 'Lng', 'Max Temp']\n",
    "for x in data_needed:\n",
    "    #tumor_size_array = pd.DataFrame(clean_mice_df[mice_tumor_all_df['Drug Regimen'] == x])\n",
    "    cities_array= cities_df[x]\n",
    "    \n",
    "    count = len(cities_array)\n",
    "    mean = round(np.mean(cities_array),2)\n",
    "    #median_tumor = round(np.median(tumorsize),2)\n",
    "    #var_tumor = round(np.var(tumorsize),2)\n",
    "    st = round(np.std(cities_array),2)\n",
    "    #max = round(sem(cities_array),2)\n",
    "    \n",
    "    cities_agg2_df[x] = pd.DataFrame([[count],\n",
    "                                          [mean],\n",
    "                                          [st],\n",
    "                                          [max]],\n",
    "                                        index= ['Count','Mean', 'St Dev', 'Max'],\n",
    "                                        columns=[x])\n",
    "\n",
    "#used to test my calculations    \n",
    "#print(f\"The mean temperature at the LAX airport is {sem_tumor}\")\n",
    "cities_agg2_df"
   ]
  },
  {
   "cell_type": "code",
   "execution_count": null,
   "metadata": {},
   "outputs": [],
   "source": []
  },
  {
   "cell_type": "markdown",
   "metadata": {},
   "source": [
    "for x in range(10): #use during testing for speed\n",
    "#for x in range(len(cities)):\n",
    "#for index,row in cities_pd.iterrows():\n",
    "    print(f\"Making request number: {x} for ID: {cities[x]}\")\n",
    "    cities_info = requests.get(f\"http://api.openweathermap.org/data/2.5/weather?q={cities[x]}&appid={weather_api_key}\")\n",
    "    \n",
    "    # print the cities_lat_lng url, avoid doing for public github repos in order to avoid exposing key\n",
    "    # print(cities_lat_lng.url)\n",
    "    \n",
    "    # convert to json\n",
    "    cities_info = cities_info.json()\n",
    "\n",
    "    cities_df.loc[x, \"Lat\"] = cities_info[0]['coord']['lat']\n",
    "    cities_df.loc[x, \"Lng\"] = cities_info[0]['coord']['lon']\n",
    "\n",
    "# Visualize to confirm lat lng appear\n",
    "cities_df.head()"
   ]
  },
  {
   "cell_type": "markdown",
   "metadata": {},
   "source": [
    "# Specify the file to write to\n",
    "output_path = os.path.join(\"..\", 'PYBANK', \"analysis\", \"analysis.csv\")\n",
    "\n",
    "# Open the file using \"write\" mode. Specify the variable to hold the contents\n",
    "with open(output_path, 'w', newline='') as csvfile:\n",
    "\n",
    "    # Initialize csv.writer\n",
    "    csvwriter = csv.writer(csvfile) ## 'delimiter=',''what does this really do???\n",
    "    \n",
    "    \n",
    "    # Save as a csv\n",
    "# Note to avoid any issues later, use encoding=\"utf-8\"\n",
    "census_pd.to_csv(\"census_data.csv\", encoding=\"utf-8\", index=False)\n"
   ]
  },
  {
   "cell_type": "markdown",
   "metadata": {},
   "source": [
    "### Convert Raw Data to DataFrame\n",
    "* Export the city data into a .csv.\n",
    "* Display the DataFrame"
   ]
  },
  {
   "cell_type": "code",
   "execution_count": null,
   "metadata": {},
   "outputs": [],
   "source": []
  },
  {
   "cell_type": "code",
   "execution_count": null,
   "metadata": {},
   "outputs": [],
   "source": []
  },
  {
   "cell_type": "markdown",
   "metadata": {},
   "source": [
    "## Inspect the data and remove the cities where the humidity > 100%.\n",
    "----\n",
    "Skip this step if there are no cities that have humidity > 100%. "
   ]
  },
  {
   "cell_type": "code",
   "execution_count": null,
   "metadata": {},
   "outputs": [],
   "source": []
  },
  {
   "cell_type": "code",
   "execution_count": null,
   "metadata": {},
   "outputs": [],
   "source": [
    "#  Get the indices of cities that have humidity over 100%.\n"
   ]
  },
  {
   "cell_type": "code",
   "execution_count": null,
   "metadata": {},
   "outputs": [],
   "source": [
    "# Make a new DataFrame equal to the city data to drop all humidity outliers by index.\n",
    "# Passing \"inplace=False\" will make a copy of the city_data DataFrame, which we call \"clean_city_data\".\n"
   ]
  },
  {
   "cell_type": "code",
   "execution_count": null,
   "metadata": {},
   "outputs": [],
   "source": [
    "\n"
   ]
  },
  {
   "cell_type": "markdown",
   "metadata": {},
   "source": [
    "## Plotting the Data\n",
    "* Use proper labeling of the plots using plot titles (including date of analysis) and axes labels.\n",
    "* Save the plotted figures as .pngs."
   ]
  },
  {
   "cell_type": "markdown",
   "metadata": {},
   "source": [
    "## Latitude vs. Temperature Plot"
   ]
  },
  {
   "cell_type": "code",
   "execution_count": null,
   "metadata": {
    "scrolled": true
   },
   "outputs": [],
   "source": []
  },
  {
   "cell_type": "markdown",
   "metadata": {},
   "source": [
    "## Latitude vs. Humidity Plot"
   ]
  },
  {
   "cell_type": "code",
   "execution_count": null,
   "metadata": {},
   "outputs": [],
   "source": []
  },
  {
   "cell_type": "markdown",
   "metadata": {},
   "source": [
    "## Latitude vs. Cloudiness Plot"
   ]
  },
  {
   "cell_type": "code",
   "execution_count": null,
   "metadata": {},
   "outputs": [],
   "source": []
  },
  {
   "cell_type": "markdown",
   "metadata": {},
   "source": [
    "## Latitude vs. Wind Speed Plot"
   ]
  },
  {
   "cell_type": "code",
   "execution_count": null,
   "metadata": {},
   "outputs": [],
   "source": []
  },
  {
   "cell_type": "markdown",
   "metadata": {},
   "source": [
    "## Linear Regression"
   ]
  },
  {
   "cell_type": "code",
   "execution_count": null,
   "metadata": {},
   "outputs": [],
   "source": []
  },
  {
   "cell_type": "markdown",
   "metadata": {},
   "source": [
    "####  Northern Hemisphere - Max Temp vs. Latitude Linear Regression"
   ]
  },
  {
   "cell_type": "code",
   "execution_count": null,
   "metadata": {},
   "outputs": [],
   "source": []
  },
  {
   "cell_type": "markdown",
   "metadata": {},
   "source": [
    "####  Southern Hemisphere - Max Temp vs. Latitude Linear Regression"
   ]
  },
  {
   "cell_type": "code",
   "execution_count": null,
   "metadata": {},
   "outputs": [],
   "source": []
  },
  {
   "cell_type": "markdown",
   "metadata": {},
   "source": [
    "####  Northern Hemisphere - Humidity (%) vs. Latitude Linear Regression"
   ]
  },
  {
   "cell_type": "code",
   "execution_count": null,
   "metadata": {},
   "outputs": [],
   "source": []
  },
  {
   "cell_type": "markdown",
   "metadata": {},
   "source": [
    "####  Southern Hemisphere - Humidity (%) vs. Latitude Linear Regression"
   ]
  },
  {
   "cell_type": "code",
   "execution_count": null,
   "metadata": {},
   "outputs": [],
   "source": []
  },
  {
   "cell_type": "markdown",
   "metadata": {},
   "source": [
    "####  Northern Hemisphere - Cloudiness (%) vs. Latitude Linear Regression"
   ]
  },
  {
   "cell_type": "code",
   "execution_count": null,
   "metadata": {},
   "outputs": [],
   "source": []
  },
  {
   "cell_type": "markdown",
   "metadata": {},
   "source": [
    "####  Southern Hemisphere - Cloudiness (%) vs. Latitude Linear Regression"
   ]
  },
  {
   "cell_type": "code",
   "execution_count": null,
   "metadata": {},
   "outputs": [],
   "source": []
  },
  {
   "cell_type": "markdown",
   "metadata": {},
   "source": [
    "####  Northern Hemisphere - Wind Speed (mph) vs. Latitude Linear Regression"
   ]
  },
  {
   "cell_type": "code",
   "execution_count": null,
   "metadata": {},
   "outputs": [],
   "source": []
  },
  {
   "cell_type": "markdown",
   "metadata": {},
   "source": [
    "####  Southern Hemisphere - Wind Speed (mph) vs. Latitude Linear Regression"
   ]
  },
  {
   "cell_type": "code",
   "execution_count": null,
   "metadata": {},
   "outputs": [],
   "source": []
  },
  {
   "cell_type": "code",
   "execution_count": null,
   "metadata": {},
   "outputs": [],
   "source": []
  }
 ],
 "metadata": {
  "anaconda-cloud": {},
  "kernel_info": {
   "name": "python3"
  },
  "kernelspec": {
   "display_name": "Python 3",
   "language": "python",
   "name": "python3"
  },
  "language_info": {
   "codemirror_mode": {
    "name": "ipython",
    "version": 3
   },
   "file_extension": ".py",
   "mimetype": "text/x-python",
   "name": "python",
   "nbconvert_exporter": "python",
   "pygments_lexer": "ipython3",
   "version": "3.8.5"
  },
  "latex_envs": {
   "LaTeX_envs_menu_present": true,
   "autoclose": false,
   "autocomplete": true,
   "bibliofile": "biblio.bib",
   "cite_by": "apalike",
   "current_citInitial": 1,
   "eqLabelWithNumbers": true,
   "eqNumInitial": 1,
   "hotkeys": {
    "equation": "Ctrl-E",
    "itemize": "Ctrl-I"
   },
   "labels_anchors": false,
   "latex_user_defs": false,
   "report_style_numbering": false,
   "user_envs_cfg": false
  },
  "nteract": {
   "version": "0.12.3"
  }
 },
 "nbformat": 4,
 "nbformat_minor": 2
}
